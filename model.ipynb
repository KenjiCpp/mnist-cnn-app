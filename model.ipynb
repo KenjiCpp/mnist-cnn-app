{
 "cells": [
  {
   "cell_type": "code",
   "execution_count": 1,
   "metadata": {},
   "outputs": [],
   "source": [
    "from keras.datasets import mnist\n",
    "from keras.models import Sequential\n",
    "from keras.layers import Dense, Conv2D, MaxPooling2D, Flatten\n",
    "\n",
    "import tensorflow as tf\n",
    "\n",
    "import numpy as np\n"
   ]
  },
  {
   "cell_type": "code",
   "execution_count": 2,
   "metadata": {},
   "outputs": [
    {
     "name": "stdout",
     "output_type": "stream",
     "text": [
      "Obtained: \n",
      "  60000 training sample(s).\n",
      "  10000 validating sample(s).\n",
      "Imput image shape: (28, 28, 1)\n",
      "Found 10 target class(es)\n"
     ]
    }
   ],
   "source": [
    "(X_t, y_t), (X_v, y_v) = mnist.load_data()\n",
    "\n",
    "m_t = X_t.shape[0]\n",
    "m_v = X_v.shape[0]\n",
    "\n",
    "input_shape = X_t[0].shape\n",
    "\n",
    "n_classes = np.unique(y_t).shape[0]\n",
    "\n",
    "X_t = (X_t / 255).reshape(m_t, input_shape[0], input_shape[1], 1)\n",
    "X_v = (X_v / 255).reshape(m_v, input_shape[0], input_shape[1], 1)\n",
    "y_t = tf.keras.utils.to_categorical(y_t)\n",
    "y_v = tf.keras.utils.to_categorical(y_v)\n",
    "\n",
    "print('Obtained: ')\n",
    "print(f'  {m_t} training sample(s).')\n",
    "print(f'  {m_v} validating sample(s).')\n",
    "\n",
    "input_shape = X_t[0].shape\n",
    "\n",
    "print(f'Imput image shape: {input_shape}')\n",
    "print(f'Found {n_classes} target class(es)')\n"
   ]
  },
  {
   "cell_type": "code",
   "execution_count": 3,
   "metadata": {},
   "outputs": [
    {
     "name": "stdout",
     "output_type": "stream",
     "text": [
      "Epoch 1/10\n",
      "1875/1875 [==============================] - 21s 11ms/step - loss: 0.1992 - accuracy: 0.9389 - val_loss: 0.0587 - val_accuracy: 0.9820\n",
      "Epoch 2/10\n",
      "1875/1875 [==============================] - 20s 11ms/step - loss: 0.0673 - accuracy: 0.9790 - val_loss: 0.0539 - val_accuracy: 0.9824\n",
      "Epoch 3/10\n",
      "1875/1875 [==============================] - 26s 14ms/step - loss: 0.0490 - accuracy: 0.9847 - val_loss: 0.0467 - val_accuracy: 0.9848\n",
      "Epoch 4/10\n",
      "1875/1875 [==============================] - 28s 15ms/step - loss: 0.0384 - accuracy: 0.9883 - val_loss: 0.0413 - val_accuracy: 0.9855\n",
      "Epoch 5/10\n",
      "1875/1875 [==============================] - 33s 18ms/step - loss: 0.0320 - accuracy: 0.9900 - val_loss: 0.0270 - val_accuracy: 0.9909\n",
      "Epoch 6/10\n",
      "1875/1875 [==============================] - 29s 15ms/step - loss: 0.0273 - accuracy: 0.9917 - val_loss: 0.0374 - val_accuracy: 0.9884\n",
      "Epoch 7/10\n",
      "1875/1875 [==============================] - 28s 15ms/step - loss: 0.0224 - accuracy: 0.9927 - val_loss: 0.0389 - val_accuracy: 0.9869\n",
      "Epoch 8/10\n",
      "1875/1875 [==============================] - 25s 13ms/step - loss: 0.0198 - accuracy: 0.9936 - val_loss: 0.0380 - val_accuracy: 0.9889\n",
      "Epoch 9/10\n",
      "1875/1875 [==============================] - 26s 14ms/step - loss: 0.0181 - accuracy: 0.9941 - val_loss: 0.0299 - val_accuracy: 0.9917\n",
      "Epoch 10/10\n",
      "1875/1875 [==============================] - 26s 14ms/step - loss: 0.0152 - accuracy: 0.9952 - val_loss: 0.0311 - val_accuracy: 0.9910\n"
     ]
    }
   ],
   "source": [
    "cnn = Sequential()\n",
    "cnn.add(Conv2D(32, (3, 3), activation='relu', input_shape=input_shape))\n",
    "cnn.add(MaxPooling2D((2, 2)))\n",
    "cnn.add(Conv2D(64, (3, 3), activation='relu'))\n",
    "cnn.add(MaxPooling2D((2, 2)))\n",
    "cnn.add(Conv2D(10, (3, 3), activation='relu'))\n",
    "cnn.add(Flatten())\n",
    "cnn.add(Dense(64, activation='relu'))\n",
    "cnn.add(Dense(n_classes, activation='softmax'))\n",
    "\n",
    "cnn.compile(loss='categorical_crossentropy', optimizer='adam', metrics=['accuracy'])\n",
    "\n",
    "history = cnn.fit(X_t, y_t, batch_size=32, epochs=10, validation_data=(X_v, y_v))\n",
    "cnn.save('model.h5')"
   ]
  }
 ],
 "metadata": {
  "interpreter": {
   "hash": "107d7b120a5b68773a87d4067e673630b35702e55ebab3138143d08b1c4d7cbc"
  },
  "kernelspec": {
   "display_name": "Python 3.10.4 64-bit",
   "language": "python",
   "name": "python3"
  },
  "language_info": {
   "codemirror_mode": {
    "name": "ipython",
    "version": 3
   },
   "file_extension": ".py",
   "mimetype": "text/x-python",
   "name": "python",
   "nbconvert_exporter": "python",
   "pygments_lexer": "ipython3",
   "version": "3.10.4"
  },
  "orig_nbformat": 4
 },
 "nbformat": 4,
 "nbformat_minor": 2
}
